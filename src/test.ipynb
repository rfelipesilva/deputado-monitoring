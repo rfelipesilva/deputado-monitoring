{
 "metadata": {
  "language_info": {
   "codemirror_mode": {
    "name": "ipython",
    "version": 3
   },
   "file_extension": ".py",
   "mimetype": "text/x-python",
   "name": "python",
   "nbconvert_exporter": "python",
   "pygments_lexer": "ipython3",
   "version": "3.8.6"
  },
  "orig_nbformat": 2,
  "kernelspec": {
   "name": "python386jvsc74a57bd01baa965d5efe3ac65b79dfc60c0d706280b1da80fedb7760faf2759126c4f253",
   "display_name": "Python 3.8.6 64-bit"
  },
  "metadata": {
   "interpreter": {
    "hash": "1baa965d5efe3ac65b79dfc60c0d706280b1da80fedb7760faf2759126c4f253"
   }
  }
 },
 "nbformat": 4,
 "nbformat_minor": 2,
 "cells": [
  {
   "cell_type": "code",
   "execution_count": 56,
   "metadata": {},
   "outputs": [],
   "source": [
    "import requests\n",
    "import pandas as pd"
   ]
  },
  {
   "cell_type": "code",
   "execution_count": 35,
   "metadata": {},
   "outputs": [],
   "source": [
    "response = requests.get('https://dadosabertos.camara.leg.br/api/v2/deputados?ordem=ASC&ordenarPor=nome')\n",
    "data = response.json()"
   ]
  },
  {
   "cell_type": "code",
   "execution_count": 50,
   "metadata": {
    "tags": []
   },
   "outputs": [
    {
     "output_type": "execute_result",
     "data": {
      "text/plain": [
       "dict"
      ]
     },
     "metadata": {},
     "execution_count": 50
    }
   ],
   "source": [
    "type(data)"
   ]
  },
  {
   "cell_type": "code",
   "execution_count": 72,
   "metadata": {},
   "outputs": [],
   "source": [
    "### Converting to a dataframe"
   ]
  },
  {
   "cell_type": "code",
   "execution_count": 58,
   "metadata": {
    "tags": []
   },
   "outputs": [],
   "source": [
    "ids, names = [], []\n",
    "for each in data['dados']:\n",
    "    ids.append(each['id'])\n",
    "    names.append(each['nome'])\n",
    "    #print('{} - {}'.format(each['id'], each['nome']))"
   ]
  },
  {
   "cell_type": "code",
   "execution_count": 63,
   "metadata": {
    "tags": []
   },
   "outputs": [
    {
     "output_type": "execute_result",
     "data": {
      "text/plain": [
       "       id             name\n",
       "0  204554   Abílio Santana\n",
       "1  204521        Abou Anni\n",
       "2  204379   Acácio Favacho\n",
       "3  204560     Adolfo Viana\n",
       "4  204528  Adriana Ventura"
      ],
      "text/html": "<div>\n<style scoped>\n    .dataframe tbody tr th:only-of-type {\n        vertical-align: middle;\n    }\n\n    .dataframe tbody tr th {\n        vertical-align: top;\n    }\n\n    .dataframe thead th {\n        text-align: right;\n    }\n</style>\n<table border=\"1\" class=\"dataframe\">\n  <thead>\n    <tr style=\"text-align: right;\">\n      <th></th>\n      <th>id</th>\n      <th>name</th>\n    </tr>\n  </thead>\n  <tbody>\n    <tr>\n      <th>0</th>\n      <td>204554</td>\n      <td>Abílio Santana</td>\n    </tr>\n    <tr>\n      <th>1</th>\n      <td>204521</td>\n      <td>Abou Anni</td>\n    </tr>\n    <tr>\n      <th>2</th>\n      <td>204379</td>\n      <td>Acácio Favacho</td>\n    </tr>\n    <tr>\n      <th>3</th>\n      <td>204560</td>\n      <td>Adolfo Viana</td>\n    </tr>\n    <tr>\n      <th>4</th>\n      <td>204528</td>\n      <td>Adriana Ventura</td>\n    </tr>\n  </tbody>\n</table>\n</div>"
     },
     "metadata": {},
     "execution_count": 63
    }
   ],
   "source": [
    "deputy_list = pd.DataFrame({'id':id, 'name':names})\n",
    "deputy_list.head()"
   ]
  },
  {
   "cell_type": "code",
   "execution_count": 64,
   "metadata": {},
   "outputs": [],
   "source": [
    "deputy_list.to_csv('../data/bra_deputy_list.csv', sep='|', encoding='utf-8', index=False)"
   ]
  },
  {
   "cell_type": "code",
   "execution_count": 73,
   "metadata": {},
   "outputs": [],
   "source": [
    "### Converting to a dictionary"
   ]
  },
  {
   "cell_type": "code",
   "execution_count": 88,
   "metadata": {},
   "outputs": [],
   "source": [
    "deputy_name_dict = {}\n",
    "for each in data['dados']:\n",
    "    deputy_name_dict[each['nome'] + ' - ' + each['siglaPartido']] = each['id']"
   ]
  },
  {
   "cell_type": "code",
   "execution_count": 90,
   "metadata": {},
   "outputs": [
    {
     "output_type": "execute_result",
     "data": {
      "text/plain": [
       "dict_keys(['Abílio Santana - PL', 'Abou Anni - PSL', 'Acácio Favacho - PROS', 'Adolfo Viana - PSDB', 'Adriana Ventura - NOVO', 'Adriano do Baldy - PP', 'Aécio Neves - PSDB', 'Aelton Freitas - PL', 'Afonso Florence - PT', 'Afonso Hamm - PP', 'Afonso Motta - PDT', 'Aguinaldo Ribeiro - PP', 'Airton Faleiro - PT', 'AJ Albuquerque - PP', 'Alan Rick - DEM', 'Alceu Moreira - MDB', 'Alcides Rodrigues - PATRIOTA', 'Alê Silva - PSL', 'Alencar Santana Braga - PT', 'Alessandro Molon - PSB', 'Alex Manente - CIDADANIA', 'Alex Santana - PDT', 'Alexandre Frota - PSDB', 'Alexandre Leite - DEM', 'Alexandre Padilha - PT', 'Alexis Fonteyne - NOVO', 'Alice Portugal - PCdoB', 'Aliel Machado - PSB', 'Aline Gurgel - REPUBLICANOS', 'Aline Sleutjes - PSL', 'Altineu Côrtes - PL', 'Aluisio Mendes - PSC', 'Amaro Neto - REPUBLICANOS', 'André Abdon - PP', 'André de Paula - PSD', 'André Ferreira - PSC', 'André Figueiredo - PDT', 'André Fufuca - PP', 'André Janones - AVANTE', 'Angela Amin - PP', 'Aníbal Gomes - DEM', 'Antonio Brito - PSD', 'Arlindo Chinaglia - PT', 'Arnaldo Jardim - CIDADANIA', 'Aroldo Martins - REPUBLICANOS', 'Arthur Lira - PP', 'Arthur Oliveira Maia - DEM', 'Átila Lins - PP', 'Átila Lira - PP', 'Augusto Coutinho - SOLIDARIEDADE', 'Áurea Carolina - PSOL', 'Aureo Ribeiro - SOLIDARIEDADE', 'Bacelar - PODE', 'Baleia Rossi - MDB', 'Benedita da Silva - PT', 'Benes Leocádio - REPUBLICANOS', 'Beto Faro - PT', 'Beto Pereira - PSDB', 'Beto Rosado - PP', 'Bia Cavassa - PSDB', 'Bia Kicis - PSL', 'Bibo Nunes - PSL', 'Bilac Pinto - DEM', 'Bira do Pindaré - PSB', 'Boca Aberta - PROS', 'Bohn Gass - PT', 'Bosco Costa - PL', 'Bosco Saraiva - SOLIDARIEDADE', 'Bozzella - PSL', 'Bruna Furlan - PSDB', 'Cacá Leão - PP', 'Camilo Capiberibe - PSB', 'Capitão Alberto Neto - REPUBLICANOS', 'Capitão Augusto - PL', 'Capitão Fábio Abreu - PL', 'Capitão Wagner - PROS', 'Carla Dickson - PROS', 'Carla Zambelli - PSL', 'Carlos Chiodini - MDB', 'Carlos Gomes - REPUBLICANOS', 'Carlos Henrique Gaguim - DEM', 'Carlos Jordy - PSL', 'Carlos Sampaio - PSDB', 'Carlos Veras - PT', 'Carlos Zarattini - PT', 'Carmen Zanotto - CIDADANIA', 'Caroline de Toni - PSL', 'Cássio Andrade - PSB', 'Celina Leão - PP', 'Célio Moura - PT', 'Célio Silveira - PSDB', 'Célio Studart - PV', 'Celso Maldaner - MDB', 'Celso Russomanno - REPUBLICANOS', 'Celso Sabino - PSDB', 'Cezinha de Madureira - PSD', 'Charles Fernandes - PSD', 'Charlles Evangelista - PSL', \"Chico D'Angelo - PDT\", 'Chiquinho Brazão - AVANTE', 'Chris Tonietto - PSL', 'Christiane de Souza Yared - PL', 'Christino Aureo - PP', 'Clarissa Garotinho - PROS', 'Claudio Cajado - PP', 'Cleber Verde - REPUBLICANOS', 'Coronel Armando - PSL', 'Coronel Chrisóstomo - PSL', 'Coronel Tadeu - PSL', 'Covatti Filho - PP', 'Cristiano Vale - PL', 'Da Vitoria - CIDADANIA', 'Dagoberto Nogueira - PDT', 'Damião Feliciano - PDT', 'Daniel Almeida - PCdoB', 'Daniel Coelho - CIDADANIA', 'Daniel Freitas - PSL', 'Daniel Silveira - PSL', 'Daniel Trzeciak - PSDB', 'Daniela do Waguinho - MDB', 'Danilo Cabral - PSB', 'Danilo Forte - PSDB', 'Darci de Matos - PSD', 'David Miranda - PSOL', 'David Soares - DEM', 'Delegado Antônio Furtado - PSL', 'Delegado Éder Mauro - PSD', 'Delegado Marcelo Freitas - PSL', 'Delegado Pablo - PSL', 'Delegado Waldir - PSL', 'Diego Andrade - PSD', 'Diego Garcia - PODE', 'Dimas Fabiano - PP', 'Domingos Neto - PSD', 'Domingos Sávio - PSDB', 'Dr. Frederico - PATRIOTA', 'Dr. Gonçalo - REPUBLICANOS', 'Dr. Jaziel - PL', 'Dr. Leonardo - SOLIDARIEDADE', 'Dr. Luiz Antonio Teixeira Jr. - PP', 'Dr. Luiz Ovando - PSL', 'Dr. Zacharias Calil - DEM', 'Dra. Soraya Manato - PSL', 'Dra. Vanda Milani - SOLIDARIEDADE', 'Dulce Miranda - MDB', 'Edilázio Júnior - PSD', 'Edio Lopes - PL', 'Edna Henrique - PSDB', 'Eduardo Barbosa - PSDB', 'Eduardo Bismarck - PDT', 'Eduardo Bolsonaro - PSL', 'Eduardo Costa - PTB', 'Eduardo Cury - PSDB', 'Eduardo da Fonte - PP', 'Efraim Filho - DEM', 'Elcione Barbalho - MDB', 'Eli Borges - SOLIDARIEDADE', 'Eli Corrêa Filho - DEM', 'Elias Vaz - PSB', 'Elmar Nascimento - DEM', 'Emanuel Pinheiro Neto - PTB', 'Emidinho Madeira - PSB', 'Enio Verri - PT', 'Enrico Misasi - PV', 'Erika Kokay - PT', 'Eros Biondini - PROS', 'Euclydes Pettersen - PSC', 'Evair Vieira de Melo - PP', 'Expedito Netto - PSD', 'Fábio Henrique - PDT', 'Fábio Mitidieri - PSD', 'Fábio Ramalho - MDB', 'Fabio Reis - MDB', 'Fabio Schiochet - PSL', 'Fábio Trad - PSD', 'Fausto Pinato - PP', 'Felício Laterça - PSL', 'Felipe Carreras - PSB', 'Felipe Francischini - PSL', 'Felipe Rigoni - PSB', 'Félix Mendonça Júnior - PDT', 'Fernanda Melchionna - PSOL', 'Fernando Coelho Filho - DEM', 'Fernando Monteiro - PP', 'Fernando Rodolfo - PL', 'Filipe Barros - PSL', 'Flávia Morais - PDT', 'Flaviano Melo - MDB', 'Flávio Nogueira - PDT', 'Flordelis - PSD', 'Francisco Jr. - PSD', 'Franco Cartafina - PP', 'Fred Costa - PATRIOTA', 'Frei Anastacio Ribeiro - PT', 'Gastão Vieira - PROS', 'Gelson Azevedo - PL', 'Genecias Noronha - SOLIDARIEDADE', 'General Girão - PSL', 'General Peternelli - PSL', 'Geninho Zuliani - DEM', 'Geovania de Sá - PSDB', 'Gervásio Maia - PSB', 'Giacobo - PL', 'Gil Cutrim - REPUBLICANOS', 'Gilberto Abramo - REPUBLICANOS', 'Gilberto Nascimento - PSC', 'Gilson Marques - NOVO', 'Giovani Cherini - PL', 'Giovani Feltes - MDB', 'Glauber Braga - PSOL', 'Glaustin da Fokus - PSC', 'Gleisi Hoffmann - PT', 'Gonzaga Patriota - PSB', 'Greyce Elias - AVANTE', 'Guiga Peixoto - PSL', 'Guilherme Derrite - PP', 'Guilherme Mussi - PP', 'Gurgel - PSL', 'Gustavo Fruet - PDT', 'Gustinho Ribeiro - SOLIDARIEDADE', 'Gutemberg Reis - MDB', 'Haroldo Cathedral - PSD', 'Heitor Freire - PSL', 'Heitor Schuch - PSB', 'Helder Salomão - PT', 'Hélio Costa - REPUBLICANOS', 'Hélio Leite - DEM', 'Helio Lopes - PSL', 'Henrique Fontana - PT', 'Hercílio Coelho Diniz - MDB', 'Herculano Passos - MDB', 'Hermes Parcianello - MDB', 'Hildo Rocha - MDB', 'Hiran Gonçalves - PP', 'Hugo Leal - PSD', 'Hugo Motta - REPUBLICANOS', 'Idilvan Alencar - PDT', 'Igor Kannário - DEM', 'Igor Timo - PODE', 'Iracema Portella - PP', 'Isnaldo Bulhões Jr. - MDB', 'Ivan Valente - PSOL', 'Jandira Feghali - PCdoB', 'Jaqueline Cassol - PP', 'Jefferson Campos - PSB', 'Jerônimo Goergen - PP', 'Jéssica Sales - MDB', 'Jesus Sérgio - PDT', 'Jhonatan de Jesus - REPUBLICANOS', 'João Campos - REPUBLICANOS', 'João Carlos Bacelar - PL', 'João Daniel - PT', 'João Maia - PL', 'João Marcelo Souza - MDB', 'Joaquim Passarinho - PSD', 'Joenia Wapichana - REDE', 'Joice Hasselmann - PSL', 'Jorge Braz - REPUBLICANOS', 'Jorge Solla - PT', 'José Airton Félix Cirilo - PT', 'José Guimarães - PT', 'Jose Mario Schreiner - DEM', 'José Medeiros - PODE', 'José Nelto - PODE', 'José Nunes - PSD', 'José Priante - MDB', 'José Ricardo - PT', 'José Rocha - PL', 'Joseildo Ramos - PT', 'Josimar Maranhãozinho - PL', 'Josivaldo JP - PODE', 'Juarez Costa - MDB', 'Julian Lemos - PSL', 'Júlio Cesar - PSD', 'Julio Cesar Ribeiro - REPUBLICANOS', 'Júlio Delgado - PSB', 'Juninho do Pneu - DEM', 'Junio Amaral - PSL', 'Júnior Ferrari - PSD', 'Junior Lourenço - PL', 'Júnior Mano - PL', 'Juscelino Filho - DEM', 'Kim Kataguiri - DEM', 'Laercio Oliveira - PP', 'Laerte Bessa - PL', 'Lafayette de Andrada - REPUBLICANOS', 'Lauriete - PSC', 'Leandre - PV', 'Leda Sadala - AVANTE', 'LEO DE BRITO - PT', 'Léo Moraes - PODE', 'Léo Motta - PSL', 'Leonardo Gadelha - PSC', 'Leonardo Monteiro - PT', 'Leônidas Cristino - PDT', 'Leur Lomanto Júnior - DEM', 'Lídice da Mata - PSB', 'Lincoln Portela - PL', 'Liziane Bayer - PSB', 'Loester Trutis - PSL', 'Lourival Gomes - PSL', 'Lucas Gonzalez - NOVO', 'Lucas Redecker - PSDB', 'Lucas Vergilio - SOLIDARIEDADE', 'Luciano Bivar - PSL', 'Luciano Ducci - PSB', 'Lucio Mosquini - MDB', 'Luis Miranda - DEM', 'Luis Tibé - AVANTE', 'Luisa Canziani - PTB', 'Luiz Antônio Corrêa - PL', 'Luiz Carlos - PSDB', 'Luiz Carlos Motta - PL', 'Luiz Lima - PSL', 'Luiz Nishimori - PL', 'Luiz Philippe de Orleans e Bragança - PSL', 'Luiza Erundina - PSOL', 'Luizão Goulart - REPUBLICANOS', 'Luizianne Lins - PT', 'Magda Mofatto - PL', 'Major Fabiana - PSL', 'Mara Rocha - PSDB', 'Marcel van Hattem - NOVO', 'Marcelo Álvaro Antônio - PSL', 'Marcelo Aro - PP', 'Marcelo Brum - PSL', 'Marcelo Freixo - PSOL', 'Marcelo Moraes - PTB', 'Marcelo Nilo - PSB', 'Marcelo Ramos - PL', 'Marcio Alvino - PL', 'Márcio Biolchi - MDB', 'Márcio Labre - PSL', 'Márcio Marinho - REPUBLICANOS', 'Marco Bertaiolli - PSD', 'Marcon - PT', 'Marcos Aurélio Sampaio - MDB', 'Marcos Pereira - REPUBLICANOS', 'Marcos Soares - DEM', 'Margarete Coelho - PP', 'Maria do Rosário - PT', 'Maria Rosas - REPUBLICANOS', 'Mariana Carvalho - PSDB', 'Marília Arraes - PT', 'Marina Santos - SOLIDARIEDADE', 'Mário Heringer - PDT', 'Mário Negromonte Jr. - PP', 'Marlon Santos - PDT', 'Marreca Filho - PATRIOTA', 'Marx Beltrão - PSD', 'Maurício Dziedricki - PTB', 'Mauro Lopes - MDB', 'Mauro Nazif - PSB', 'Merlong Solano - PT', 'Miguel Lombardi - PL', 'Milton Coelho - PSB', 'Milton Vieira - REPUBLICANOS', 'Misael Varella - PSD', 'Moses Rodrigues - MDB', 'Natália Bonavides - PT', 'Nelson Barbudo - PSL', 'Nereu Crispim - PSL', 'Neri Geller - PP', 'Neucimar Fraga - PSD', 'Newton Cardoso Jr - MDB', 'Nicoletti - PSL', 'Nilson Pinto - PSDB', 'Nilto Tatto - PT', 'Nivaldo Albuquerque - PTB', 'Norma Ayub - DEM', 'Odair Cunha - PT', 'Odorico Monteiro - PSB', 'Olival Marques - DEM', 'Orlando Silva - PCdoB', 'Osires Damaso - PSC', 'Osmar Terra - MDB', 'Ossesio Silva - REPUBLICANOS', 'Otavio Leite - PSDB', 'Otoni de Paula - PSC', 'Ottaci Nascimento - SOLIDARIEDADE', 'Otto Alencar Filho - PSD', 'Padre João - PT', 'Pastor Eurico - PATRIOTA', 'Pastor Gil - PL', 'Pastor Sargento Isidório - AVANTE', 'Patrus Ananias - PT', 'Paula Belmonte - CIDADANIA', 'Paulão - PT', 'Paulo Abi-Ackel - PSDB', 'Paulo Azi - DEM', 'Paulo Bengtson - PTB', 'Paulo Eduardo Martins - PSC', 'Paulo Freire Costa - PL', 'Paulo Ganime - NOVO', 'Paulo Guedes - PT', 'Paulo Magalhães - PSD', 'Paulo Pereira da Silva - SOLIDARIEDADE', 'Paulo Pimenta - PT', 'Paulo Ramos - PDT', 'Paulo Teixeira - PT', 'Paulo Vicente Caleffi - PSD', 'Pedro Augusto Bezerra - PTB', 'Pedro Augusto Palareti - PSD', 'Pedro Lucas Fernandes - PTB', 'Pedro Lupion - DEM', 'Pedro Uczai - PT', 'Pedro Vilela - PSDB', 'Pedro Westphalen - PP', 'Perpétua Almeida - PCdoB', 'Pinheirinho - PP', 'Policial Katia Sastre - PL', 'Pompeo de Mattos - PDT', 'Pr. Marco Feliciano - REPUBLICANOS', 'Professor Alcides - PP', 'Professor Israel Batista - PV', 'Professor Joziel - PSL', 'Professora Dayane Pimentel - PSL', 'Professora Dorinha Seabra Rezende - DEM', 'Professora Marcivania - PCdoB', 'Professora Rosa Neide - PT', 'Rafael Motta - PSB', 'Rafafá - PSDB', 'Raimundo Costa - PL', 'Raul Henry - MDB', 'Reginaldo Lopes - PT', 'Reinhold Stephanes Junior - PSD', 'Rejane Dias - PT', 'Renata Abreu - PODE', 'Renildo Calheiros - PCdoB', 'Ricardo Barros - PP', 'Ricardo da Karol - PSC', 'Ricardo Guidi - PSD', 'Ricardo Izar - PP', 'Ricardo Silva - PSB', 'Ricardo Teobaldo - PODE', 'Roberto Alves - REPUBLICANOS', 'Roberto de Lucena - PODE', 'Rodrigo Agostinho - PSB', 'Rodrigo Coelho - PSB', 'Rodrigo de Castro - PSDB', 'Rodrigo Maia - DEM', 'Rogério Correia - PT', 'Rogério Peninha Mendonça - MDB', 'Roman - PATRIOTA', 'Ronaldo Carletto - PP', 'Rosana Valle - PSB', 'Rosangela Gomes - REPUBLICANOS', 'Rose Modesto - PSDB', 'Rossoni - PSDB', 'Rubens Bueno - CIDADANIA', 'Rubens Otoni - PT', 'Rui Falcão - PT', 'Sâmia Bomfim - PSOL', 'Samuel Moreira - PSDB', 'Sanderson - PSL', 'Sargento Fahur - PSD', 'Sebastião Oliveira - AVANTE', 'Sérgio Brito - PSD', 'Sergio Souza - MDB', 'Sergio Toledo - PL', 'Severino Pessoa - REPUBLICANOS', 'Shéridan - PSDB', 'Sidney Leite - PSD', 'Silas Câmara - REPUBLICANOS', 'Silvia Cristina - PDT', 'Silvio Costa Filho - REPUBLICANOS', 'Soraya Santos - PL', 'Sóstenes Cavalcante - DEM', 'Stefano Aguiar - PSD', 'Subtenente Gonzaga - PDT', 'Tabata Amaral - PDT', 'Tadeu Alencar - PSB', 'Talíria Petrone - PSOL', 'Ted Conti - PSB', 'Tereza Nelma - PSDB', 'Tia Eron - REPUBLICANOS', 'Tiago Dimas - SOLIDARIEDADE', 'Tiago Mitraud - NOVO', 'Tiririca - PL', 'Tito - AVANTE', 'Toninho Wandscheer - PROS', 'Totonho Lopes - PDT', 'Túlio Gadêlha - PDT', 'Uldurico Junior - PROS', 'Vaidon Oliveira - PROS', 'Valdevan Noventa - PL', 'Valmir Assunção - PT', 'Valtenir Pereira - MDB', 'Vander Loubet - PT', 'Vanderlei Macris - PSDB', 'Vavá Martins - REPUBLICANOS', 'Vermelho - PSD', 'Vicentinho - PT', 'Vicentinho Júnior - PL', 'Vilson da Fetaemg - PSB', 'Vinicius Carvalho - REPUBLICANOS', 'Vinicius Farah - MDB', 'Vinicius Gurgel - PL', 'Vinicius Poit - NOVO', 'Vitor Hugo - PSL', 'Vitor Lippi - PSDB', 'Vivi Reis - PSOL', 'Waldenor Pereira - PT', 'Walter Alves - MDB', 'Weliton Prado - PROS', 'Wellington Roberto - PL', 'Wilson Santiago - PTB', 'Wolney Queiroz - PDT', 'Zé Carlos - PT', 'Zé Neto - PT', 'Zé Silva - SOLIDARIEDADE', 'Zé Vitor - PL', 'Zeca Dirceu - PT'])"
      ]
     },
     "metadata": {},
     "execution_count": 90
    }
   ],
   "source": [
    "deputy_name_dict.keys()"
   ]
  }
 ]
}